{
 "metadata": {
  "language_info": {
   "codemirror_mode": {
    "name": "ipython",
    "version": 3
   },
   "file_extension": ".py",
   "mimetype": "text/x-python",
   "name": "python",
   "nbconvert_exporter": "python",
   "pygments_lexer": "ipython3",
   "version": "3.9.5"
  },
  "orig_nbformat": 2,
  "kernelspec": {
   "name": "python395jvsc74a57bd0d61d66f38fba2d6d1ec0cc24f1f53324a6310368a2714d3ddae406a0a15f0c6e",
   "display_name": "Python 3.9.5 64-bit"
  },
  "metadata": {
   "interpreter": {
    "hash": "d61d66f38fba2d6d1ec0cc24f1f53324a6310368a2714d3ddae406a0a15f0c6e"
   }
  }
 },
 "nbformat": 4,
 "nbformat_minor": 2,
 "cells": [
  {
   "source": [
    "# Here I will begin to learn how loops work in Python\n",
    "## The loops that I will be learning include:\n",
    "* While\n",
    "* For loops\n",
    "* Nested loops"
   ],
   "cell_type": "markdown",
   "metadata": {}
  },
  {
   "source": [
    "### _While Loops_"
   ],
   "cell_type": "markdown",
   "metadata": {}
  },
  {
   "cell_type": "code",
   "execution_count": 3,
   "metadata": {},
   "outputs": [
    {
     "output_type": "stream",
     "name": "stdout",
     "text": [
      "1\n2\n3\n4\n5\n"
     ]
    }
   ],
   "source": [
    "#The format is something of while condition is true -> do something\n",
    "i = 1\n",
    "while i <= 5:\n",
    "    print(i)\n",
    "    i += 1"
   ]
  },
  {
   "source": [
    "### _For Loop_"
   ],
   "cell_type": "markdown",
   "metadata": {}
  },
  {
   "cell_type": "code",
   "execution_count": 5,
   "metadata": {},
   "outputs": [
    {
     "output_type": "stream",
     "name": "stdout",
     "text": [
      "0 1 2 3 4 5 6 7 8 9 \nP y t h o n \n"
     ]
    }
   ],
   "source": [
    "output = \"\"\n",
    "for i in range(10):\n",
    "\toutput += (f\"{i} \")\n",
    "print(output)\n",
    "output = \"\"\n",
    "for i in 'Python':\n",
    "\toutput += (f\"{i} \")\n",
    "print(output)"
   ]
  },
  {
   "source": [
    "### _Nested Loops_"
   ],
   "cell_type": "markdown",
   "metadata": {}
  },
  {
   "cell_type": "code",
   "execution_count": 6,
   "metadata": {},
   "outputs": [
    {
     "output_type": "stream",
     "name": "stdout",
     "text": [
      " (0, 0) (0, 1) (0, 2) (0, 3)\n (1, 0) (1, 1) (1, 2) (1, 3)\n (2, 0) (2, 1) (2, 2) (2, 3)\n (3, 0) (3, 1) (3, 2) (3, 3)\n"
     ]
    }
   ],
   "source": [
    "for x in range(4):\n",
    "\toutput = \"\"\n",
    "\tfor y in range(4):\n",
    "\t\toutput += ' ' + f'({x}, {y})'\n",
    "\tprint(output)"
   ]
  },
  {
   "cell_type": "code",
   "execution_count": null,
   "metadata": {},
   "outputs": [],
   "source": []
  }
 ]
}