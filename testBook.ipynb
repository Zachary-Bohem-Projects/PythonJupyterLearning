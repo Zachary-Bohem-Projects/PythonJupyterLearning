{
 "metadata": {
  "language_info": {
   "codemirror_mode": {
    "name": "ipython",
    "version": 3
   },
   "file_extension": ".py",
   "mimetype": "text/x-python",
   "name": "python",
   "nbconvert_exporter": "python",
   "pygments_lexer": "ipython3",
   "version": "3.9.5"
  },
  "orig_nbformat": 2,
  "kernelspec": {
   "name": "python395jvsc74a57bd0d61d66f38fba2d6d1ec0cc24f1f53324a6310368a2714d3ddae406a0a15f0c6e",
   "display_name": "Python 3.9.5 64-bit"
  },
  "metadata": {
   "interpreter": {
    "hash": "d61d66f38fba2d6d1ec0cc24f1f53324a6310368a2714d3ddae406a0a15f0c6e"
   }
  }
 },
 "nbformat": 4,
 "nbformat_minor": 2,
 "cells": [
  {
   "source": [
    "## Here is me experimenting with strings and how to manipulate them."
   ],
   "cell_type": "markdown",
   "metadata": {}
  },
  {
   "source": [
    "#Replace and Title along with Find\n",
    "message = \"I like programming\"\n",
    "print(message.replace('programming','coding')) #prints 'I like coding'\n",
    "print(message.title()) #prints 'I Like Programming'\n",
    "print(message.find('l')) #Finds the first l and prints '2'\n"
   ],
   "cell_type": "code",
   "metadata": {},
   "execution_count": 12,
   "outputs": [
    {
     "output_type": "stream",
     "name": "stdout",
     "text": [
      "I like coding\nI Like Programming\n2\n"
     ]
    }
   ]
  },
  {
   "cell_type": "code",
   "execution_count": 13,
   "metadata": {},
   "outputs": [
    {
     "output_type": "stream",
     "name": "stdout",
     "text": [
      "Python\nPython\n"
     ]
    }
   ],
   "source": [
    "#Substrings and Changing the string\n",
    "message = 'Python is cool'\n",
    "print(message[0:6]) #prints 'Python'\n",
    "message = message[0:6] #assigns the variable to equal 'Python'\n",
    "print(message) #prints 'Python'"
   ]
  }
 ]
}