{
 "metadata": {
  "language_info": {
   "codemirror_mode": {
    "name": "ipython",
    "version": 3
   },
   "file_extension": ".py",
   "mimetype": "text/x-python",
   "name": "python",
   "nbconvert_exporter": "python",
   "pygments_lexer": "ipython3",
   "version": "3.9.5"
  },
  "orig_nbformat": 2,
  "kernelspec": {
   "name": "python395jvsc74a57bd0d61d66f38fba2d6d1ec0cc24f1f53324a6310368a2714d3ddae406a0a15f0c6e",
   "display_name": "Python 3.9.5 64-bit"
  },
  "metadata": {
   "interpreter": {
    "hash": "d61d66f38fba2d6d1ec0cc24f1f53324a6310368a2714d3ddae406a0a15f0c6e"
   }
  }
 },
 "nbformat": 4,
 "nbformat_minor": 2,
 "cells": [
  {
   "source": [
    "## Next I will look furthure into lists/arrays and how they work\n",
    "   \n",
    "### I will be looking at the following functions:\n",
    "* append()\n",
    "* pop()\n",
    "* clear()\n",
    "* copy()\n",
    "* count()\n",
    "* index()\n",
    "* insert()\n",
    "* reverse()\n",
    "* sort()"
   ],
   "cell_type": "markdown",
   "metadata": {}
  },
  {
   "source": [
    "## Initialization and Printing Array"
   ],
   "cell_type": "markdown",
   "metadata": {}
  },
  {
   "cell_type": "code",
   "execution_count": 1,
   "metadata": {},
   "outputs": [
    {
     "output_type": "stream",
     "name": "stdout",
     "text": [
      "['Alpha', 'Bravo', 'Charlie']\n"
     ]
    }
   ],
   "source": [
    "#Initializing and printing an array\n",
    "my_array = ['Alpha', 'Bravo', 'Charlie']\n",
    "print(my_array)"
   ]
  },
  {
   "source": [
    "### Append()"
   ],
   "cell_type": "markdown",
   "metadata": {}
  },
  {
   "cell_type": "code",
   "execution_count": 2,
   "metadata": {},
   "outputs": [
    {
     "output_type": "stream",
     "name": "stdout",
     "text": [
      "['Alpha', 'Bravo', 'Charlie', 'Delta']\n"
     ]
    }
   ],
   "source": [
    "#Appending a value\n",
    "my_array.append('Delta')\n",
    "print(my_array)"
   ]
  },
  {
   "source": [
    "### Pop()"
   ],
   "cell_type": "markdown",
   "metadata": {}
  },
  {
   "cell_type": "code",
   "execution_count": 3,
   "metadata": {},
   "outputs": [
    {
     "output_type": "stream",
     "name": "stdout",
     "text": [
      "['Alpha', 'Charlie', 'Delta']\n"
     ]
    }
   ],
   "source": [
    "#Popping a value\n",
    "my_array.pop(1) #removes 'Bravo' from array\n",
    "print(my_array)"
   ]
  },
  {
   "source": [
    "### Clear()"
   ],
   "cell_type": "markdown",
   "metadata": {}
  },
  {
   "cell_type": "code",
   "execution_count": 4,
   "metadata": {},
   "outputs": [
    {
     "output_type": "stream",
     "name": "stdout",
     "text": [
      "[]\n"
     ]
    }
   ],
   "source": [
    "#Clear array\n",
    "my_array.clear()\n",
    "print(my_array)"
   ]
  },
  {
   "source": [
    "### Copy()"
   ],
   "cell_type": "markdown",
   "metadata": {}
  },
  {
   "cell_type": "code",
   "execution_count": 5,
   "metadata": {},
   "outputs": [
    {
     "output_type": "stream",
     "name": "stdout",
     "text": [
      "['Alpha', 'Bravo', 'Charlie']\n"
     ]
    }
   ],
   "source": [
    "#Copy array\n",
    "new_array = ['Alpha', 'Bravo', 'Charlie'] #New array to copy to my_array\n",
    "my_array = new_array.copy() #copy new array to original array\n",
    "print(my_array)"
   ]
  },
  {
   "source": [
    "### Count()"
   ],
   "cell_type": "markdown",
   "metadata": {}
  },
  {
   "cell_type": "code",
   "execution_count": 6,
   "metadata": {},
   "outputs": [
    {
     "output_type": "stream",
     "name": "stdout",
     "text": [
      "1\n"
     ]
    }
   ],
   "source": [
    "#Find the time an element appears in array (count)\n",
    "print(my_array[0].count('a'))#Look at index 1(Bravo) and print the times 'a' appears"
   ]
  },
  {
   "source": [
    "### Index()"
   ],
   "cell_type": "markdown",
   "metadata": {}
  },
  {
   "cell_type": "code",
   "execution_count": 7,
   "metadata": {},
   "outputs": [
    {
     "output_type": "stream",
     "name": "stdout",
     "text": [
      "1\n"
     ]
    }
   ],
   "source": [
    "#Index - finds what index the substring exists\n",
    "print(my_array.index('Bravo'))"
   ]
  },
  {
   "source": [
    "### Insert()"
   ],
   "cell_type": "markdown",
   "metadata": {}
  },
  {
   "cell_type": "code",
   "execution_count": 8,
   "metadata": {},
   "outputs": [
    {
     "output_type": "stream",
     "name": "stdout",
     "text": [
      "['Alpha', 'Bravo', 'Delta', 'Charlie']\n"
     ]
    }
   ],
   "source": [
    "#Insert - Choose an index and what to insert into that index\n",
    "my_array.insert(2, 'Delta')\n",
    "print(my_array)"
   ]
  },
  {
   "source": [
    "### Reverse()"
   ],
   "cell_type": "markdown",
   "metadata": {}
  },
  {
   "cell_type": "code",
   "execution_count": 9,
   "metadata": {},
   "outputs": [
    {
     "output_type": "stream",
     "name": "stdout",
     "text": [
      "['Charlie', 'Delta', 'Bravo', 'Alpha']\n"
     ]
    }
   ],
   "source": [
    "#Reverse\n",
    "my_array.reverse()\n",
    "print(my_array)"
   ]
  },
  {
   "source": [
    "### Sort()"
   ],
   "cell_type": "markdown",
   "metadata": {}
  },
  {
   "cell_type": "code",
   "execution_count": 11,
   "metadata": {},
   "outputs": [
    {
     "output_type": "stream",
     "name": "stdout",
     "text": [
      "['Delta', 'Charlie', 'Bravo', 'Alpha']\n['Alpha', 'Bravo', 'Charlie', 'Delta']\n"
     ]
    }
   ],
   "source": [
    "#Sort\n",
    "my_array.reverse() #Mix up the order\n",
    "print(my_array)\n",
    "my_array.sort() #Sort the array\n",
    "print(my_array)"
   ]
  },
  {
   "cell_type": "code",
   "execution_count": null,
   "metadata": {},
   "outputs": [],
   "source": []
  },
  {
   "source": [
    "# Now I will being branching and learning about 2D lists/arrays"
   ],
   "cell_type": "markdown",
   "metadata": {}
  },
  {
   "cell_type": "code",
   "execution_count": 1,
   "metadata": {},
   "outputs": [
    {
     "output_type": "execute_result",
     "data": {
      "text/plain": [
       "2"
      ]
     },
     "metadata": {},
     "execution_count": 1
    }
   ],
   "source": [
    "matrix = [\n",
    "    [1, 2, 3],\n",
    "    [4, 5, 6],\n",
    "    [7, 8, 9]\n",
    "]\n",
    "matrix[0][1] #access the number 2"
   ]
  },
  {
   "cell_type": "code",
   "execution_count": 4,
   "metadata": {},
   "outputs": [
    {
     "output_type": "stream",
     "name": "stdout",
     "text": [
      "1 2 3 \n4 5 6 \n7 8 9 \n"
     ]
    }
   ],
   "source": [
    "for row in matrix: #loop through all items in 2D list\n",
    "    output = \"\"\n",
    "    for num in row:\n",
    "        output += f\"{num} \"\n",
    "    print(output)"
   ]
  }
 ]
}