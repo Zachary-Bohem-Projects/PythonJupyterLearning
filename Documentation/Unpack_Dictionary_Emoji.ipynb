{
 "metadata": {
  "language_info": {
   "codemirror_mode": {
    "name": "ipython",
    "version": 3
   },
   "file_extension": ".py",
   "mimetype": "text/x-python",
   "name": "python",
   "nbconvert_exporter": "python",
   "pygments_lexer": "ipython3",
   "version": "3.9.5"
  },
  "orig_nbformat": 2,
  "kernelspec": {
   "name": "python395jvsc74a57bd0d61d66f38fba2d6d1ec0cc24f1f53324a6310368a2714d3ddae406a0a15f0c6e",
   "display_name": "Python 3.9.5 64-bit"
  },
  "metadata": {
   "interpreter": {
    "hash": "d61d66f38fba2d6d1ec0cc24f1f53324a6310368a2714d3ddae406a0a15f0c6e"
   }
  }
 },
 "nbformat": 4,
 "nbformat_minor": 2,
 "cells": [
  {
   "source": [
    "# Here are the snippets of code that I used to learn unpacking and dictionaries"
   ],
   "cell_type": "markdown",
   "metadata": {}
  },
  {
   "source": [
    "### _Unpacking_"
   ],
   "cell_type": "markdown",
   "metadata": {}
  },
  {
   "cell_type": "code",
   "execution_count": 2,
   "metadata": {},
   "outputs": [
    {
     "output_type": "stream",
     "name": "stdout",
     "text": [
      "[x = 1,y = 2,z = 3]\n"
     ]
    }
   ],
   "source": [
    "coordinates = [1, 2, 3]\n",
    "x,y,z = coordinates\n",
    "print(f\"[x = {x},y = {y},z = {z}]\")"
   ]
  },
  {
   "source": [
    "### _Dictionaries_"
   ],
   "cell_type": "markdown",
   "metadata": {}
  },
  {
   "cell_type": "code",
   "execution_count": 3,
   "metadata": {},
   "outputs": [
    {
     "output_type": "execute_result",
     "data": {
      "text/plain": [
       "{'name': 'John Smith', 'age': 30, 'is_verified': True}"
      ]
     },
     "metadata": {},
     "execution_count": 3
    }
   ],
   "source": [
    "customer = {\n",
    "    \"name\": \"John Smith\",\n",
    "    \"age\": 30,\n",
    "    \"is_verified\": True\n",
    "}\n",
    "customer"
   ]
  },
  {
   "cell_type": "code",
   "execution_count": 5,
   "metadata": {},
   "outputs": [
    {
     "output_type": "execute_result",
     "data": {
      "text/plain": [
       "'March 20 1978'"
      ]
     },
     "metadata": {},
     "execution_count": 5
    }
   ],
   "source": [
    "customer[\"birthdate\"] = \"March 20 1978\" #can add new keys\n",
    "customer[\"birthdate\"] #can access specific keys"
   ]
  }
 ]
}