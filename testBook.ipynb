{
 "metadata": {
  "language_info": {
   "codemirror_mode": {
    "name": "ipython",
    "version": 3
   },
   "file_extension": ".py",
   "mimetype": "text/x-python",
   "name": "python",
   "nbconvert_exporter": "python",
   "pygments_lexer": "ipython3",
   "version": "3.9.5"
  },
  "orig_nbformat": 2,
  "kernelspec": {
   "name": "python395jvsc74a57bd0d61d66f38fba2d6d1ec0cc24f1f53324a6310368a2714d3ddae406a0a15f0c6e",
   "display_name": "Python 3.9.5 64-bit"
  },
  "metadata": {
   "interpreter": {
    "hash": "d61d66f38fba2d6d1ec0cc24f1f53324a6310368a2714d3ddae406a0a15f0c6e"
   }
  }
 },
 "nbformat": 4,
 "nbformat_minor": 2,
 "cells": [
  {
   "source": [
    "## Here is me experimenting with strings and how to manipulate them."
   ],
   "cell_type": "markdown",
   "metadata": {}
  },
  {
   "source": [
    "#Replace and Title along with Find\n",
    "message = \"I like programming\"\n",
    "print(message.replace('programming','coding')) #prints 'I like coding'\n",
    "print(message.title()) #prints 'I Like Programming'\n",
    "print(message.find('l')) #Finds the first l and prints '2'\n"
   ],
   "cell_type": "code",
   "metadata": {},
   "execution_count": 12,
   "outputs": [
    {
     "output_type": "stream",
     "name": "stdout",
     "text": [
      "I like coding\nI Like Programming\n2\n"
     ]
    }
   ]
  },
  {
   "cell_type": "code",
   "execution_count": 13,
   "metadata": {},
   "outputs": [
    {
     "output_type": "stream",
     "name": "stdout",
     "text": [
      "Python\nPython\n"
     ]
    }
   ],
   "source": [
    "#Substrings and Changing the string\n",
    "message = 'Python is cool'\n",
    "print(message[0:6]) #prints 'Python'\n",
    "message = message[0:6] #assigns the variable to equal 'Python'\n",
    "print(message) #prints 'Python'"
   ]
  },
  {
   "source": [
    "## Next I will look furthure into arrays and how they work\n",
    "   \n",
    "### I will be looking at the following array functions:\n",
    "* append()\n",
    "* pop()\n",
    "* clear()\n",
    "* copy()\n",
    "* count()\n",
    "* index()\n",
    "* insert()\n",
    "* reverse()\n",
    "* sort()"
   ],
   "cell_type": "markdown",
   "metadata": {}
  },
  {
   "cell_type": "code",
   "execution_count": 15,
   "metadata": {},
   "outputs": [
    {
     "output_type": "stream",
     "name": "stdout",
     "text": [
      "['Alpha', 'Bravo', 'Charlie']\n"
     ]
    }
   ],
   "source": [
    "#Initializing and printing an array\n",
    "my_array = ['Alpha', 'Bravo', 'Charlie']\n",
    "print(my_array)"
   ]
  },
  {
   "cell_type": "code",
   "execution_count": 16,
   "metadata": {},
   "outputs": [
    {
     "output_type": "stream",
     "name": "stdout",
     "text": [
      "['Alpha', 'Bravo', 'Charlie', 'Delta']\n"
     ]
    }
   ],
   "source": [
    "#Appending a value\n",
    "my_array.append('Delta')\n",
    "print(my_array)"
   ]
  },
  {
   "cell_type": "code",
   "execution_count": 17,
   "metadata": {},
   "outputs": [
    {
     "output_type": "stream",
     "name": "stdout",
     "text": [
      "['Alpha', 'Charlie', 'Delta']\n"
     ]
    }
   ],
   "source": [
    "#Popping a value\n",
    "my_array.pop(1) #removes 'Bravo' from array\n",
    "print(my_array)"
   ]
  },
  {
   "cell_type": "code",
   "execution_count": 18,
   "metadata": {},
   "outputs": [
    {
     "output_type": "stream",
     "name": "stdout",
     "text": [
      "[]\n"
     ]
    }
   ],
   "source": [
    "#Clear array\n",
    "my_array.clear()\n",
    "print(my_array)"
   ]
  },
  {
   "cell_type": "code",
   "execution_count": 19,
   "metadata": {},
   "outputs": [
    {
     "output_type": "stream",
     "name": "stdout",
     "text": [
      "['Alpha', 'Bravo', 'Charlie']\n"
     ]
    }
   ],
   "source": [
    "#Copy array\n",
    "new_array = ['Alpha', 'Bravo', 'Charlie'] #New array to copy to my_array\n",
    "my_array = new_array.copy() #copy new array to original array\n",
    "print(my_array)"
   ]
  },
  {
   "cell_type": "code",
   "execution_count": 27,
   "metadata": {},
   "outputs": [
    {
     "output_type": "stream",
     "name": "stdout",
     "text": [
      "1\n"
     ]
    }
   ],
   "source": [
    "#Find the time an element appears in array (count)\n",
    "print(my_array[0].count('a'))#Look at index 1(Bravo) and print the times 'a' appears"
   ]
  },
  {
   "cell_type": "code",
   "execution_count": 31,
   "metadata": {},
   "outputs": [
    {
     "output_type": "stream",
     "name": "stdout",
     "text": [
      "1\n"
     ]
    }
   ],
   "source": [
    "#Index - finds what index the substring exists\n",
    "print(my_array.index('Bravo'))"
   ]
  },
  {
   "cell_type": "code",
   "execution_count": 32,
   "metadata": {},
   "outputs": [
    {
     "output_type": "stream",
     "name": "stdout",
     "text": [
      "['Alpha', 'Bravo', 'Delta', 'Charlie']\n"
     ]
    }
   ],
   "source": [
    "#Insert - Choose an index and what to insert into that index\n",
    "my_array.insert(2, 'Delta')\n",
    "print(my_array)"
   ]
  },
  {
   "cell_type": "code",
   "execution_count": 35,
   "metadata": {},
   "outputs": [
    {
     "output_type": "stream",
     "name": "stdout",
     "text": [
      "['Charlie', 'Delta', 'Bravo', 'Alpha']\n"
     ]
    }
   ],
   "source": [
    "#Reverse\n",
    "my_array.reverse()\n",
    "print(my_array)"
   ]
  },
  {
   "cell_type": "code",
   "execution_count": 39,
   "metadata": {},
   "outputs": [
    {
     "output_type": "stream",
     "name": "stdout",
     "text": [
      "['Delta', 'Charlie', 'Bravo', 'Alpha']\n['Alpha', 'Bravo', 'Charlie', 'Delta']\n"
     ]
    }
   ],
   "source": [
    "#Sort\n",
    "my_array.reverse() #Mix up the order\n",
    "print(my_array)\n",
    "my_array.sort() #Sort the array\n",
    "print(my_array)"
   ]
  }
 ]
}