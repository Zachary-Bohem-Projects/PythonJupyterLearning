{
 "metadata": {
  "language_info": {
   "codemirror_mode": {
    "name": "ipython",
    "version": 3
   },
   "file_extension": ".py",
   "mimetype": "text/x-python",
   "name": "python",
   "nbconvert_exporter": "python",
   "pygments_lexer": "ipython3",
   "version": "3.9.5"
  },
  "orig_nbformat": 2,
  "kernelspec": {
   "name": "python395jvsc74a57bd0d61d66f38fba2d6d1ec0cc24f1f53324a6310368a2714d3ddae406a0a15f0c6e",
   "display_name": "Python 3.9.5 64-bit"
  },
  "metadata": {
   "interpreter": {
    "hash": "d61d66f38fba2d6d1ec0cc24f1f53324a6310368a2714d3ddae406a0a15f0c6e"
   }
  }
 },
 "nbformat": 4,
 "nbformat_minor": 2,
 "cells": [
  {
   "source": [
    "## While following a [free course on Youtube](https://www.youtube.com/watch?v=_uQrJ0TkZlc&list=PLGZkjbF-nnmUtNP4G6TT3Dgh8zLFdSNsX&index=1), I implemented games and projects that were ment to help in the learning process\n",
    "\n",
    "### _Here is the documentation for those games/projects_"
   ],
   "cell_type": "markdown",
   "metadata": {}
  },
  {
   "source": [
    "### The first project is a guessing game"
   ],
   "cell_type": "markdown",
   "metadata": {}
  },
  {
   "cell_type": "code",
   "execution_count": 4,
   "metadata": {},
   "outputs": [
    {
     "output_type": "stream",
     "name": "stdout",
     "text": [
      "You Won!\n"
     ]
    }
   ],
   "source": [
    "secret_number = 9\n",
    "guess_count = 0\n",
    "guess_limit = 3\n",
    "\n",
    "while guess_count < guess_limit:\n",
    "\tguess = int(input('Guess: '))\n",
    "\tguess_count += 1\n",
    "\tif guess == secret_number:\n",
    "\t\tprint('You Won!')\n",
    "\t\tbreak\n",
    "else: \n",
    "\tprint('You Lost!')"
   ]
  },
  {
   "source": [
    "### Next is a car game that checks for certain commands then prints out a cammand specific output"
   ],
   "cell_type": "markdown",
   "metadata": {}
  },
  {
   "cell_type": "code",
   "execution_count": 6,
   "metadata": {},
   "outputs": [
    {
     "output_type": "stream",
     "name": "stdout",
     "text": [
      "\n",
      "start - to start the cars\n",
      "stop - to stop the cars\n",
      "quit - to quit\n",
      "\t\t\n",
      "Car started...\n",
      "Car is already started...\n",
      "Car stopped...\n",
      "Car already stopped...\n"
     ]
    }
   ],
   "source": [
    "command = \"\"\n",
    "previous_command = \"\"\n",
    "\n",
    "while True:\n",
    "\tcommand = input('> ').lower()\n",
    "\tif command == 'start':\n",
    "\t\tif previous_command != \"start\":\n",
    "\t\t\tprint(\"Car started...\")\n",
    "\t\t\tprevious_command = \"start\"\n",
    "\t\telse:\n",
    "\t\t\tprint(\"Car is already started...\")\n",
    "\telif command == 'stop':\n",
    "\t\tif previous_command != 'stop':\n",
    "\t\t\tprint(\"Car stopped...\")\n",
    "\t\t\tprevious_command = command\n",
    "\t\telse:\n",
    "\t\t\tprint(\"Car already stopped...\")\n",
    "\telif command == 'help':\n",
    "\t\tprint(\"\"\"\n",
    "start - to start the cars\n",
    "stop - to stop the cars\n",
    "quit - to quit\n",
    "\t\t\"\"\")\n",
    "\telif command == \"quit\":\n",
    "\t\tbreak\n",
    "\telse:\n",
    "\t\tprint(\"Sorry, I don't understand that!\")\n"
   ]
  }
 ]
}